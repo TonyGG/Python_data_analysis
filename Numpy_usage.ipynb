{
 "cells": [
  {
   "cell_type": "code",
   "execution_count": 1,
   "id": "5570f900",
   "metadata": {},
   "outputs": [],
   "source": [
    "import numpy as np"
   ]
  },
  {
   "cell_type": "code",
   "execution_count": 2,
   "id": "976882ac",
   "metadata": {},
   "outputs": [
    {
     "name": "stdout",
     "output_type": "stream",
     "text": [
      "[2. 2. 2. 2. 2. 2. 2. 2. 2.]\n"
     ]
    }
   ],
   "source": [
    "# a list of 2\n",
    "Z = 2*np.ones(9)\n",
    "print(Z)"
   ]
  },
  {
   "cell_type": "code",
   "execution_count": 3,
   "id": "76ecbe43",
   "metadata": {},
   "outputs": [
    {
     "name": "stdout",
     "output_type": "stream",
     "text": [
      "[0 1 2 3 4 5 6 7 8]\n"
     ]
    }
   ],
   "source": [
    "# a range\n",
    "Z = np.arange(9)\n",
    "print(Z)"
   ]
  },
  {
   "cell_type": "code",
   "execution_count": 8,
   "id": "6d7651e9",
   "metadata": {},
   "outputs": [
    {
     "name": "stdout",
     "output_type": "stream",
     "text": [
      "[[0]\n",
      " [1]\n",
      " [2]\n",
      " [3]\n",
      " [4]\n",
      " [5]\n",
      " [6]\n",
      " [7]\n",
      " [8]]\n"
     ]
    }
   ],
   "source": [
    "# reshape\n",
    "Z = np.arange(9).reshape(9,1)\n",
    "print(Z)"
   ]
  },
  {
   "cell_type": "code",
   "execution_count": 10,
   "id": "cd88b5f1",
   "metadata": {},
   "outputs": [
    {
     "name": "stdout",
     "output_type": "stream",
     "text": [
      "[[1 6 2]\n",
      " [2 3 7]\n",
      " [1 8 7]]\n"
     ]
    }
   ],
   "source": [
    "# random matrix, numbers\n",
    "Z=np.random.randint(0,9,(3,3))\n",
    "print(Z)"
   ]
  },
  {
   "cell_type": "code",
   "execution_count": 11,
   "id": "1011fad4",
   "metadata": {},
   "outputs": [
    {
     "name": "stdout",
     "output_type": "stream",
     "text": [
      "[0.   0.25 0.5  0.75 1.  ]\n"
     ]
    }
   ],
   "source": [
    "# linspace, like bins\n",
    "#  np.linspace(start, stop, size)\n",
    "Z = np.linspace(0, 1, 5)\n",
    "print(Z)"
   ]
  },
  {
   "cell_type": "code",
   "execution_count": 15,
   "id": "cb0628f6",
   "metadata": {},
   "outputs": [
    {
     "name": "stdout",
     "output_type": "stream",
     "text": [
      "[[[ 0  0  0  0  0]\n",
      "  [ 1  1  1  1  1]\n",
      "  [ 2  2  2  2  2]]\n",
      "\n",
      " [[ 9 10 11 12 13]\n",
      "  [ 9 10 11 12 13]\n",
      "  [ 9 10 11 12 13]]]\n"
     ]
    }
   ],
   "source": [
    "Z=np.mgrid[0:3,9:14]\n",
    "print(Z)"
   ]
  },
  {
   "cell_type": "code",
   "execution_count": 16,
   "id": "03d3d21b",
   "metadata": {},
   "outputs": [
    {
     "name": "stdout",
     "output_type": "stream",
     "text": [
      "[[0 0 0 0]\n",
      " [0 0 0 0]\n",
      " [0 0 1 0]]\n"
     ]
    }
   ],
   "source": [
    "# one demension reshape to multidimension\n",
    "Z = np.array([0,0,0,0,0,0,0,0,0,0,1,0]).reshape(3,4)\n",
    "print(Z)"
   ]
  },
  {
   "cell_type": "code",
   "execution_count": 17,
   "id": "32a5be12",
   "metadata": {},
   "outputs": [
    {
     "name": "stdout",
     "output_type": "stream",
     "text": [
      "[[4 5]\n",
      " [7 8]]\n"
     ]
    }
   ],
   "source": [
    "# how to use ':'\n",
    "Z = np.arange(9).reshape(3,3)\n",
    "print(Z[1:,1:])"
   ]
  },
  {
   "cell_type": "code",
   "execution_count": 18,
   "id": "95d58388",
   "metadata": {},
   "outputs": [
    {
     "name": "stdout",
     "output_type": "stream",
     "text": [
      "[[0 2]\n",
      " [6 8]]\n"
     ]
    }
   ],
   "source": [
    "# corner of a grid\n",
    "Z = np.arange(9).reshape(3,3)\n",
    "print(Z[::2,::2])"
   ]
  },
  {
   "cell_type": "code",
   "execution_count": null,
   "id": "1eff389a",
   "metadata": {},
   "outputs": [],
   "source": []
  }
 ],
 "metadata": {
  "kernelspec": {
   "display_name": "Python 3",
   "language": "python",
   "name": "python3"
  },
  "language_info": {
   "codemirror_mode": {
    "name": "ipython",
    "version": 3
   },
   "file_extension": ".py",
   "mimetype": "text/x-python",
   "name": "python",
   "nbconvert_exporter": "python",
   "pygments_lexer": "ipython3",
   "version": "3.8.8"
  }
 },
 "nbformat": 4,
 "nbformat_minor": 5
}
